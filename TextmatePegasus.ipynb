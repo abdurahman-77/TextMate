{
  "nbformat": 4,
  "nbformat_minor": 0,
  "metadata": {
    "colab": {
      "provenance": [],
      "authorship_tag": "ABX9TyO9WggDcPuOWZqtpnob29Gx"
    },
    "kernelspec": {
      "name": "python3",
      "display_name": "Python 3"
    },
    "language_info": {
      "name": "python"
    },
    "accelerator": "TPU",
    "gpuClass": "standard"
  },
  "cells": [
    {
      "cell_type": "code",
      "source": [
        "!pip install transformers\n"
      ],
      "metadata": {
        "id": "PwqKhB0hpS_W"
      },
      "execution_count": null,
      "outputs": []
    },
    {
      "cell_type": "code",
      "execution_count": 2,
      "metadata": {
        "id": "tC_M9GMIobpO"
      },
      "outputs": [],
      "source": [
        "#Import necessary library\n",
        "from transformers import PegasusForConditionalGeneration, PegasusTokenizer\n"
      ]
    },
    {
      "cell_type": "code",
      "source": [
        "#pick model\n",
        "model_name = \"google/pegasus-xsum\"\n"
      ],
      "metadata": {
        "id": "7JKY9QtGpgae"
      },
      "execution_count": 3,
      "outputs": []
    },
    {
      "cell_type": "code",
      "source": [
        " #Load pretrained tokenizer\n",
        "pegasus_tokenizer = PegasusTokenizer.from_pretrained(model_name)"
      ],
      "metadata": {
        "id": "PZbMs1rBSUmy"
      },
      "execution_count": 9,
      "outputs": []
    },
    {
      "cell_type": "code",
      "source": [
        "example_text = \"\"\"In mathematics, a tensor is an algebraic object that describes a multilinear relationship between sets of algebraic objects related to a vector space. Objects that tensors may map between include vectors and scalars, and even other tensors. There are many types of tensors, including scalars and vectors (which are the simplest tensors), dual vectors, multilinear maps between vector spaces, and even some operations such as the dot product. Tensors are defined independent of any basis, although they are often referred to by their components in a basis related to a particular coordinate system.\n",
        "\n",
        "Tensors have become important in physics because they provide a concise mathematical framework for formulating and solving physics problems in areas such as mechanics (stress, elasticity, fluid mechanics, moment of inertia, ...), electrodynamics (electromagnetic tensor, Maxwell tensor, permittivity, magnetic susceptibility, ...), general relativity (stress–energy tensor, curvature tensor, ...) and others. In applications, it is common to study situations in which a different tensor can occur at each point of an object; for example the stress within an object may vary from one location to another. This leads to the concept of a tensor field. In some areas, tensor fields are so ubiquitous that they are often simply called \"tensors\".\n",
        "\n",
        "Tullio Levi-Civita and Gregorio Ricci-Curbastro popularised tensors in 1900 – continuing the earlier work of Bernhard Riemann and Elwin Bruno Christoffel and others – as part of the absolute differential calculus. The concept enabled an alternative formulation of the intrinsic differential geometry of a manifold in the form of the Riemann curvature tensor.[1]\"\"\""
      ],
      "metadata": {
        "id": "XC9OIqm5Spwm"
      },
      "execution_count": 13,
      "outputs": []
    },
    {
      "cell_type": "code",
      "source": [
        "!pip install sentencepiece\n"
      ],
      "metadata": {
        "colab": {
          "base_uri": "https://localhost:8080/"
        },
        "id": "C1sJ7kIFB0kF",
        "outputId": "0cef669b-cc22-467c-f594-a90663a98f7a"
      },
      "execution_count": 4,
      "outputs": [
        {
          "output_type": "stream",
          "name": "stdout",
          "text": [
            "Looking in indexes: https://pypi.org/simple, https://us-python.pkg.dev/colab-wheels/public/simple/\n",
            "Requirement already satisfied: sentencepiece in /usr/local/lib/python3.7/dist-packages (0.1.97)\n"
          ]
        }
      ]
    },
    {
      "cell_type": "code",
      "source": [
        "from transformers import PegasusTokenizer\n",
        "tokenizer = PegasusTokenizer.from_pretrained('google/pegasus-xsum')"
      ],
      "metadata": {
        "id": "M6rBGEoAAsUw"
      },
      "execution_count": null,
      "outputs": []
    },
    {
      "cell_type": "code",
      "source": [
        "#define pegasus model\n",
        "pegasus_model = PegasusForConditionalGeneration.from_pretrained(model_name)"
      ],
      "metadata": {
        "id": "82hey4QLPrYb"
      },
      "execution_count": 11,
      "outputs": []
    },
    {
      "cell_type": "code",
      "source": [
        "#Create tokens\n",
        "tokens  =pegasus_tokenizer(example_text, truncation=True, padding=\"longest\", return_tensors=\"pt\")\n",
        "\n",
        "tokens"
      ],
      "metadata": {
        "colab": {
          "base_uri": "https://localhost:8080/"
        },
        "id": "79WDseEVQft4",
        "outputId": "ed7ab2e3-5561-48e2-a714-29395b934d2e"
      },
      "execution_count": 14,
      "outputs": [
        {
          "output_type": "execute_result",
          "data": {
            "text/plain": [
              "{'input_ids': tensor([[  222, 10045,   108,   114, 77076,   117,   142, 55957,  2951,   120,\n",
              "          5002,   114,  1546, 29371,  1289,   317,  2120,   113, 55957,  3195,\n",
              "           985,   112,   114,  9359,   501,   107, 35799,   120, 77076,   116,\n",
              "           218,  1834,   317,   444, 28089,   111, 61388,   116,   108,   111,\n",
              "           254,   176, 77076,   116,   107,   353,   127,   223,  1020,   113,\n",
              "         77076,   116,   108,   330, 61388,   116,   111, 28089,   143,  2532,\n",
              "           127,   109, 11902, 77076,   116,   312,  4270, 28089,   108,  1546,\n",
              "         29371,  4554,   317,  9359,  2849,   108,   111,   254,   181,  1875,\n",
              "           253,   130,   109, 15525,   448,   107, 86485,   116,   127,  3365,\n",
              "          1991,   113,   189,  1444,   108,  1670,   157,   127,   432,  3795,\n",
              "           112,   141,   153,  2274,   115,   114,  1444,   985,   112,   114,\n",
              "           970,  9431,   327,   107, 86485,   116,   133,   460,   356,   115,\n",
              "          8343,   262,   157,   319,   114, 14710, 11963,  3772,   118, 37349,\n",
              "           111,  6676,  8343,   743,   115,   633,   253,   130,  9302,   143,\n",
              "         24424,   108, 24193,   108,  5651,  9302,   108,  1171,   113, 44090,\n",
              "           108,  1256,   312, 13401, 55720,   143, 57342, 40401, 77076,   108,\n",
              "         22122, 77076,   108,  4878,   144, 19467,   108,  7214, 41354,   108,\n",
              "          1256,   312,   956, 59083,   143, 24424,  1198, 14922, 77076,   108,\n",
              "         38391, 77076,   108,  1256,   158,   111,   536,   107,   222,  1160,\n",
              "           108,   126,   117,   830,   112,   692,  2806,   115,   162,   114,\n",
              "           291, 77076,   137,  2902,   134,   276,   491,   113,   142,  2951,\n",
              "           206,   118,   587,   109,  1743,   373,   142,  2951,   218,  3205,\n",
              "           135,   156,   904,   112,   372,   107,   182,  2326,   112,   109,\n",
              "          1893,   113,   114, 77076,   764,   107,   222,   181,   633,   108,\n",
              "         77076,  2574,   127,   167, 20410,   120,   157,   127,   432,   705,\n",
              "           568,   198, 23847,   490,   116,  2302, 93612,   554, 17207,   121,\n",
              "         22702, 27237,   111, 95721, 63860,   121,   529, 41784, 40736,   785,\n",
              "          5884, 77076,   116,   115, 12985,   212,  3712,   109,  1678,   201,\n",
              "           113, 55681, 91255,   111,  3130,  6877, 22930, 71321, 59019,   111,\n",
              "           536,   212,   130,   297,   113,   109,  4448, 13945, 32857,   107,\n",
              "           139,  1893,  5443,   142,  2049, 15997,   113,   109, 21398, 13945,\n",
              "         13754,   113,   114, 29932,   115,   109,   515,   113,   109, 91255,\n",
              "         38391, 77076,   107, 65077,  1100,     1]]), 'attention_mask': tensor([[1, 1, 1, 1, 1, 1, 1, 1, 1, 1, 1, 1, 1, 1, 1, 1, 1, 1, 1, 1, 1, 1, 1, 1,\n",
              "         1, 1, 1, 1, 1, 1, 1, 1, 1, 1, 1, 1, 1, 1, 1, 1, 1, 1, 1, 1, 1, 1, 1, 1,\n",
              "         1, 1, 1, 1, 1, 1, 1, 1, 1, 1, 1, 1, 1, 1, 1, 1, 1, 1, 1, 1, 1, 1, 1, 1,\n",
              "         1, 1, 1, 1, 1, 1, 1, 1, 1, 1, 1, 1, 1, 1, 1, 1, 1, 1, 1, 1, 1, 1, 1, 1,\n",
              "         1, 1, 1, 1, 1, 1, 1, 1, 1, 1, 1, 1, 1, 1, 1, 1, 1, 1, 1, 1, 1, 1, 1, 1,\n",
              "         1, 1, 1, 1, 1, 1, 1, 1, 1, 1, 1, 1, 1, 1, 1, 1, 1, 1, 1, 1, 1, 1, 1, 1,\n",
              "         1, 1, 1, 1, 1, 1, 1, 1, 1, 1, 1, 1, 1, 1, 1, 1, 1, 1, 1, 1, 1, 1, 1, 1,\n",
              "         1, 1, 1, 1, 1, 1, 1, 1, 1, 1, 1, 1, 1, 1, 1, 1, 1, 1, 1, 1, 1, 1, 1, 1,\n",
              "         1, 1, 1, 1, 1, 1, 1, 1, 1, 1, 1, 1, 1, 1, 1, 1, 1, 1, 1, 1, 1, 1, 1, 1,\n",
              "         1, 1, 1, 1, 1, 1, 1, 1, 1, 1, 1, 1, 1, 1, 1, 1, 1, 1, 1, 1, 1, 1, 1, 1,\n",
              "         1, 1, 1, 1, 1, 1, 1, 1, 1, 1, 1, 1, 1, 1, 1, 1, 1, 1, 1, 1, 1, 1, 1, 1,\n",
              "         1, 1, 1, 1, 1, 1, 1, 1, 1, 1, 1, 1, 1, 1, 1, 1, 1, 1, 1, 1, 1, 1, 1, 1,\n",
              "         1, 1, 1, 1, 1, 1, 1, 1, 1, 1, 1, 1, 1, 1, 1, 1, 1, 1, 1, 1, 1, 1, 1, 1,\n",
              "         1, 1, 1, 1, 1, 1, 1, 1, 1, 1, 1, 1, 1, 1]])}"
            ]
          },
          "metadata": {},
          "execution_count": 14
        }
      ]
    },
    {
      "cell_type": "code",
      "source": [
        "#summarize text \n",
        "\n",
        "encoded_summary = pegasus_model.generate(**tokens)"
      ],
      "metadata": {
        "colab": {
          "base_uri": "https://localhost:8080/"
        },
        "id": "f2ww5NMfTV7O",
        "outputId": "0c1e18c8-2bb4-4cb7-dd90-9eb3dfebe429"
      },
      "execution_count": 15,
      "outputs": [
        {
          "output_type": "stream",
          "name": "stderr",
          "text": [
            "/usr/local/lib/python3.7/dist-packages/transformers/generation_utils.py:1207: UserWarning: Neither `max_length` nor `max_new_tokens` have been set, `max_length` will default to 64 (`self.config.max_length`). Controlling `max_length` via the config is deprecated and `max_length` will be removed from the config in v5 of Transformers -- we recommend using `max_new_tokens` to control the maximum length of the generation.\n",
            "  UserWarning,\n"
          ]
        }
      ]
    },
    {
      "cell_type": "code",
      "source": [
        "#Decode summarized text\n",
        "\n",
        "decoded_summary = pegasus_tokenizer.decode(encoded_summary[0], skip_special_tokens=True)\n",
        "decoded_summary"
      ],
      "metadata": {
        "colab": {
          "base_uri": "https://localhost:8080/",
          "height": 35
        },
        "id": "WyDR9wogT9fX",
        "outputId": "ede16764-5012-43e0-e062-9bccc513eacb"
      },
      "execution_count": 17,
      "outputs": [
        {
          "output_type": "execute_result",
          "data": {
            "text/plain": [
              "'tensors are an important part of mathematics and physics.'"
            ],
            "application/vnd.google.colaboratory.intrinsic+json": {
              "type": "string"
            }
          },
          "metadata": {},
          "execution_count": 17
        }
      ]
    },
    {
      "cell_type": "code",
      "source": [
        "#Import the summarization pipeline from Hugging-face\n",
        "from transformers import pipeline\n",
        "\n",
        "#Define summarization pipeline\n",
        "summarizer = pipeline(\"summarization\", model=model_name, tokenizer=pegasus_tokenizer,framework=\"pt\")"
      ],
      "metadata": {
        "id": "bmyL_s0cVAd9"
      },
      "execution_count": 21,
      "outputs": []
    },
    {
      "cell_type": "code",
      "source": [
        "#create summary\n",
        "\n",
        "summary = summarizer(example_text, min_length=30,max_length=150)"
      ],
      "metadata": {
        "id": "stG7Uzc0V1i8"
      },
      "execution_count": 29,
      "outputs": []
    },
    {
      "cell_type": "code",
      "source": [
        "example_text"
      ],
      "metadata": {
        "colab": {
          "base_uri": "https://localhost:8080/",
          "height": 209
        },
        "id": "U2RuWQGeX2g6",
        "outputId": "872af38a-078c-4fba-d971-68c4c099d49a"
      },
      "execution_count": 33,
      "outputs": [
        {
          "output_type": "execute_result",
          "data": {
            "text/plain": [
              "'In mathematics, a tensor is an algebraic object that describes a multilinear relationship between sets of algebraic objects related to a vector space. Objects that tensors may map between include vectors and scalars, and even other tensors. There are many types of tensors, including scalars and vectors (which are the simplest tensors), dual vectors, multilinear maps between vector spaces, and even some operations such as the dot product. Tensors are defined independent of any basis, although they are often referred to by their components in a basis related to a particular coordinate system.\\n\\nTensors have become important in physics because they provide a concise mathematical framework for formulating and solving physics problems in areas such as mechanics (stress, elasticity, fluid mechanics, moment of inertia, ...), electrodynamics (electromagnetic tensor, Maxwell tensor, permittivity, magnetic susceptibility, ...), general relativity (stress–energy tensor, curvature tensor, ...) and others. In applications, it is common to study situations in which a different tensor can occur at each point of an object; for example the stress within an object may vary from one location to another. This leads to the concept of a tensor field. In some areas, tensor fields are so ubiquitous that they are often simply called \"tensors\".\\n\\nTullio Levi-Civita and Gregorio Ricci-Curbastro popularised tensors in 1900 – continuing the earlier work of Bernhard Riemann and Elwin Bruno Christoffel and others – as part of the absolute differential calculus. The concept enabled an alternative formulation of the intrinsic differential geometry of a manifold in the form of the Riemann curvature tensor.[1]'"
            ],
            "application/vnd.google.colaboratory.intrinsic+json": {
              "type": "string"
            }
          },
          "metadata": {},
          "execution_count": 33
        }
      ]
    },
    {
      "cell_type": "code",
      "source": [
        "summary[0][\"summary_text\"]"
      ],
      "metadata": {
        "colab": {
          "base_uri": "https://localhost:8080/",
          "height": 53
        },
        "id": "4hKBGKhPXDiE",
        "outputId": "5365168a-f58f-402c-b4d3-577b9a3af46a"
      },
      "execution_count": 32,
      "outputs": [
        {
          "output_type": "execute_result",
          "data": {
            "text/plain": [
              "'tensors are an important part of many areas of mathematics and physics, including topology, mechanics, general relativity and many other areas of science and engineering.'"
            ],
            "application/vnd.google.colaboratory.intrinsic+json": {
              "type": "string"
            }
          },
          "metadata": {},
          "execution_count": 32
        }
      ]
    }
  ]
}